{
  "nbformat": 4,
  "nbformat_minor": 0,
  "metadata": {
    "colab": {
      "name": "Homography.ipynb",
      "provenance": [],
      "collapsed_sections": [],
      "include_colab_link": true
    },
    "kernelspec": {
      "name": "python3",
      "display_name": "Python 3"
    }
  },
  "cells": [
    {
      "cell_type": "markdown",
      "metadata": {
        "id": "view-in-github",
        "colab_type": "text"
      },
      "source": [
        "<a href=\"https://colab.research.google.com/github/wzh1998/CVPR-Learning/blob/main/Homography.ipynb\" target=\"_parent\"><img src=\"https://colab.research.google.com/assets/colab-badge.svg\" alt=\"Open In Colab\"/></a>"
      ]
    },
    {
      "cell_type": "code",
      "metadata": {
        "colab": {
          "base_uri": "https://localhost:8080/"
        },
        "id": "oKb68ocQTmaZ",
        "outputId": "aea4cf58-0a68-47a1-c7a3-6fbc97018d78"
      },
      "source": [
        "!pip uninstall opencv-python\n",
        "!pip install opencv-contrib-python"
      ],
      "execution_count": null,
      "outputs": [
        {
          "output_type": "stream",
          "text": [
            "\u001b[33mWARNING: Skipping opencv-python as it is not installed.\u001b[0m\n",
            "Requirement already satisfied: opencv-contrib-python in /usr/local/lib/python3.6/dist-packages (4.1.2.30)\n",
            "Requirement already satisfied: numpy>=1.11.3 in /usr/local/lib/python3.6/dist-packages (from opencv-contrib-python) (1.19.5)\n"
          ],
          "name": "stdout"
        }
      ]
    },
    {
      "cell_type": "code",
      "metadata": {
        "id": "oElvSZCQOA3P"
      },
      "source": [
        "import numpy as np\r\n",
        "import cv2\r\n",
        "from matplotlib import pyplot as plt"
      ],
      "execution_count": null,
      "outputs": []
    },
    {
      "cell_type": "code",
      "metadata": {
        "colab": {
          "base_uri": "https://localhost:8080/",
          "height": 252
        },
        "id": "Tb7HItSpOICN",
        "outputId": "1fc166b3-13de-4025-c51f-71b66286ed38"
      },
      "source": [
        "MIN_MATCH_COUNT = 10\r\n",
        "\r\n",
        "img1 = cv2.imread('1.JPG',0)          # queryImage\r\n",
        "img2 = cv2.imread('2.JPG',0) # trainImage\r\n",
        "\r\n",
        "# Initiate SIFT detector\r\n",
        "sift = cv2.xfeatures2d.SIFT_create()\r\n",
        "\r\n",
        "# find the keypoints and descriptors with SIFT\r\n",
        "kp1, des1 = sift.detectAndCompute(img1,None)\r\n",
        "kp2, des2 = sift.detectAndCompute(img2,None)\r\n",
        "\r\n",
        "FLANN_INDEX_KDTREE = 0\r\n",
        "index_params = dict(algorithm = FLANN_INDEX_KDTREE, trees = 5)\r\n",
        "search_params = dict(checks = 50)\r\n",
        "\r\n",
        "flann = cv2.FlannBasedMatcher(index_params, search_params)\r\n",
        "\r\n",
        "matches = flann.knnMatch(des1,des2,k=2)\r\n",
        "\r\n",
        "# store all the good matches as per Lowe's ratio test.\r\n",
        "good = []\r\n",
        "for m,n in matches:\r\n",
        "    if m.distance < 0.7*n.distance:\r\n",
        "        good.append(m)"
      ],
      "execution_count": null,
      "outputs": [
        {
          "output_type": "error",
          "ename": "error",
          "evalue": "ignored",
          "traceback": [
            "\u001b[0;31m---------------------------------------------------------------------------\u001b[0m",
            "\u001b[0;31merror\u001b[0m                                     Traceback (most recent call last)",
            "\u001b[0;32m<ipython-input-4-2124a6407c1c>\u001b[0m in \u001b[0;36m<module>\u001b[0;34m()\u001b[0m\n\u001b[1;32m      8\u001b[0m \u001b[0;34m\u001b[0m\u001b[0m\n\u001b[1;32m      9\u001b[0m \u001b[0;31m# find the keypoints and descriptors with SIFT\u001b[0m\u001b[0;34m\u001b[0m\u001b[0;34m\u001b[0m\u001b[0;34m\u001b[0m\u001b[0m\n\u001b[0;32m---> 10\u001b[0;31m \u001b[0mkp1\u001b[0m\u001b[0;34m,\u001b[0m \u001b[0mdes1\u001b[0m \u001b[0;34m=\u001b[0m \u001b[0msift\u001b[0m\u001b[0;34m.\u001b[0m\u001b[0mdetectAndCompute\u001b[0m\u001b[0;34m(\u001b[0m\u001b[0mimg1\u001b[0m\u001b[0;34m,\u001b[0m\u001b[0;32mNone\u001b[0m\u001b[0;34m)\u001b[0m\u001b[0;34m\u001b[0m\u001b[0;34m\u001b[0m\u001b[0m\n\u001b[0m\u001b[1;32m     11\u001b[0m \u001b[0mkp2\u001b[0m\u001b[0;34m,\u001b[0m \u001b[0mdes2\u001b[0m \u001b[0;34m=\u001b[0m \u001b[0msift\u001b[0m\u001b[0;34m.\u001b[0m\u001b[0mdetectAndCompute\u001b[0m\u001b[0;34m(\u001b[0m\u001b[0mimg2\u001b[0m\u001b[0;34m,\u001b[0m\u001b[0;32mNone\u001b[0m\u001b[0;34m)\u001b[0m\u001b[0;34m\u001b[0m\u001b[0;34m\u001b[0m\u001b[0m\n\u001b[1;32m     12\u001b[0m \u001b[0;34m\u001b[0m\u001b[0m\n",
            "\u001b[0;31merror\u001b[0m: OpenCV(4.5.1) /tmp/pip-req-build-n_alixql/opencv/modules/features2d/src/sift.dispatch.cpp:477: error: (-5:Bad argument) image is empty or has incorrect depth (!=CV_8U) in function 'detectAndCompute'\n"
          ]
        }
      ]
    },
    {
      "cell_type": "code",
      "metadata": {
        "id": "yRSZwwIwOUXL"
      },
      "source": [
        "if len(good)>MIN_MATCH_COUNT:\r\n",
        "    src_pts = np.float32([ kp1[m.queryIdx].pt for m in good ]).reshape(-1,1,2)\r\n",
        "    dst_pts = np.float32([ kp2[m.trainIdx].pt for m in good ]).reshape(-1,1,2)\r\n",
        "\r\n",
        "    M, mask = cv2.findHomography(src_pts, dst_pts, cv2.RANSAC,5.0)\r\n",
        "    matchesMask = mask.ravel().tolist()\r\n",
        "\r\n",
        "    h,w = img1.shape\r\n",
        "    pts = np.float32([ [0,0],[0,h-1],[w-1,h-1],[w-1,0] ]).reshape(-1,1,2)\r\n",
        "    dst = cv2.perspectiveTransform(pts,M)\r\n",
        "\r\n",
        "    img2 = cv2.polylines(img2,[np.int32(dst)],True,255,3, cv2.LINE_AA)\r\n",
        "\r\n",
        "else:\r\n",
        "    print(\"Not enough matches are found - %d/%d\" % (len(good),MIN_MATCH_COUNT))\r\n",
        "    matchesMask = None"
      ],
      "execution_count": null,
      "outputs": []
    },
    {
      "cell_type": "code",
      "metadata": {
        "id": "UIbzmtTHOVB4"
      },
      "source": [
        "draw_params = dict(matchColor = (0,255,0), # draw matches in green color\r\n",
        "                   singlePointColor = None,\r\n",
        "                   matchesMask = matchesMask, # draw only inliers\r\n",
        "                   flags = 2)\r\n",
        "\r\n",
        "img3 = cv2.drawMatches(img1,kp1,img2,kp2,good,None,**draw_params)\r\n",
        "\r\n",
        "plt.imshow(img3, 'gray'),plt.show()"
      ],
      "execution_count": null,
      "outputs": []
    }
  ]
}